{
 "cells": [
  {
   "cell_type": "code",
   "execution_count": 1,
   "source": [
    "import functions\n",
    "import models\n",
    "import pandas as pd\n",
    "import random\n",
    "import json\n",
    "\n",
    "random.seed(2021)\n",
    "\n",
    "X_train, X_val, X_test, y_train, y_val, y_test = functions.get_data_split_and_standardise()\n"
   ],
   "outputs": [],
   "metadata": {}
  },
  {
   "cell_type": "markdown",
   "source": [
    "# Setting a baseline\n",
    "We will set a baseline performance using a simple model: logistic regression. We will use L2 regularisation. Training and validation scores can be seen in the table below."
   ],
   "metadata": {}
  },
  {
   "cell_type": "code",
   "execution_count": 2,
   "source": [
    "lr_l2 = models.LogisticRegressionModel(X_train, X_val, y_train, y_val, penalty='l2')\n",
    "pd.DataFrame(lr_l2.results)"
   ],
   "outputs": [
    {
     "output_type": "execute_result",
     "data": {
      "text/html": [
       "<div>\n",
       "<style scoped>\n",
       "    .dataframe tbody tr th:only-of-type {\n",
       "        vertical-align: middle;\n",
       "    }\n",
       "\n",
       "    .dataframe tbody tr th {\n",
       "        vertical-align: top;\n",
       "    }\n",
       "\n",
       "    .dataframe thead th {\n",
       "        text-align: right;\n",
       "    }\n",
       "</style>\n",
       "<table border=\"1\" class=\"dataframe\">\n",
       "  <thead>\n",
       "    <tr style=\"text-align: right;\">\n",
       "      <th></th>\n",
       "      <th>name</th>\n",
       "      <th>penalty</th>\n",
       "      <th>training score</th>\n",
       "      <th>validation score</th>\n",
       "    </tr>\n",
       "  </thead>\n",
       "  <tbody>\n",
       "    <tr>\n",
       "      <th>0</th>\n",
       "      <td>Logistic Regression</td>\n",
       "      <td>l2</td>\n",
       "      <td>0.648148</td>\n",
       "      <td>0.642857</td>\n",
       "    </tr>\n",
       "  </tbody>\n",
       "</table>\n",
       "</div>"
      ],
      "text/plain": [
       "                  name penalty  training score  validation score\n",
       "0  Logistic Regression      l2        0.648148          0.642857"
      ]
     },
     "metadata": {},
     "execution_count": 2
    }
   ],
   "metadata": {}
  },
  {
   "cell_type": "markdown",
   "source": [
    "# Evaluation of different models\n",
    "\n",
    "Performance of four models evaluated."
   ],
   "metadata": {}
  },
  {
   "cell_type": "code",
   "execution_count": 3,
   "source": [
    "names = [\n",
    "    \"Nearest Neighbors\", \n",
    "    \"SVM\", \n",
    "    \"Random Forest\", \n",
    "    \"AdaBoost\"\n",
    "]\n",
    "classifiers = [\n",
    "    models.KNeighborsClassifier(),\n",
    "    models.SVC(),\n",
    "    models.RandomForestClassifier(),\n",
    "    models.AdaBoostClassifier()\n",
    "]\n",
    "pd.DataFrame(names, columns=[\"Model\"])"
   ],
   "outputs": [
    {
     "output_type": "execute_result",
     "data": {
      "text/html": [
       "<div>\n",
       "<style scoped>\n",
       "    .dataframe tbody tr th:only-of-type {\n",
       "        vertical-align: middle;\n",
       "    }\n",
       "\n",
       "    .dataframe tbody tr th {\n",
       "        vertical-align: top;\n",
       "    }\n",
       "\n",
       "    .dataframe thead th {\n",
       "        text-align: right;\n",
       "    }\n",
       "</style>\n",
       "<table border=\"1\" class=\"dataframe\">\n",
       "  <thead>\n",
       "    <tr style=\"text-align: right;\">\n",
       "      <th></th>\n",
       "      <th>Model</th>\n",
       "    </tr>\n",
       "  </thead>\n",
       "  <tbody>\n",
       "    <tr>\n",
       "      <th>0</th>\n",
       "      <td>Nearest Neighbors</td>\n",
       "    </tr>\n",
       "    <tr>\n",
       "      <th>1</th>\n",
       "      <td>SVM</td>\n",
       "    </tr>\n",
       "    <tr>\n",
       "      <th>2</th>\n",
       "      <td>Random Forest</td>\n",
       "    </tr>\n",
       "    <tr>\n",
       "      <th>3</th>\n",
       "      <td>AdaBoost</td>\n",
       "    </tr>\n",
       "  </tbody>\n",
       "</table>\n",
       "</div>"
      ],
      "text/plain": [
       "               Model\n",
       "0  Nearest Neighbors\n",
       "1                SVM\n",
       "2      Random Forest\n",
       "3           AdaBoost"
      ]
     },
     "metadata": {},
     "execution_count": 3
    }
   ],
   "metadata": {}
  },
  {
   "cell_type": "code",
   "execution_count": 4,
   "source": [
    "# create a dictionary of hyperparameters to be used in a grid search\n",
    "model_dict = {}\n",
    "\n",
    "model_dict = {\n",
    "    name: {\n",
    "        'model': classifier,\n",
    "        'params': {}\n",
    "    } for name, classifier in zip(names, classifiers)}\n",
    "\n",
    "# set the hyperparams for each model\n",
    "model_dict['Nearest Neighbors']['params'] = {\n",
    "    'n_neighbors': [1 ,2 ,3 ,5 ,10]\n",
    "}\n",
    "model_dict['SVM']['params'] = {\n",
    "    'kernel': ['linear', 'rbf'],\n",
    "    'C': [0.05, 0.1, 2, 40]\n",
    "}\n",
    "model_dict['Random Forest']['params'] = {\n",
    "    'max_depth': [5, 7, 10], \n",
    "    'n_estimators': [5, 10, 15], \n",
    "    'max_features': [1, 2, 3]    \n",
    "    }\n",
    "model_dict['AdaBoost']['params'] = {\n",
    "    'n_estimators': [20, 35, 50], \n",
    "    }\n",
    "\n",
    "grid_search_results = functions.train_all_models(model_dict, X_train, X_val, y_train, y_val)"
   ],
   "outputs": [
    {
     "output_type": "stream",
     "name": "stdout",
     "text": [
      "EVALUATING Nearest Neighbors.\n",
      "EVALUATING SVM.\n",
      "EVALUATING Random Forest.\n",
      "EVALUATING AdaBoost.\n"
     ]
    }
   ],
   "metadata": {}
  },
  {
   "cell_type": "markdown",
   "source": [
    "# Results of the grid search"
   ],
   "metadata": {}
  },
  {
   "cell_type": "code",
   "execution_count": 18,
   "source": [
    "results_dict = {}\n",
    "df = pd.DataFrame(lr_l2.results).drop('penalty', axis=1)\n",
    "\n",
    "for name in grid_search_results:\n",
    "    my_dict = json.loads(grid_search_results[name])\n",
    "    results_dict[name] = my_dict\n",
    "\n",
    "results_dict\n",
    "df2 = pd.DataFrame(results_dict).transpose()\n",
    "pd.concat([df, df2]).set_index('name')"
   ],
   "outputs": [
    {
     "output_type": "execute_result",
     "data": {
      "text/html": [
       "<div>\n",
       "<style scoped>\n",
       "    .dataframe tbody tr th:only-of-type {\n",
       "        vertical-align: middle;\n",
       "    }\n",
       "\n",
       "    .dataframe tbody tr th {\n",
       "        vertical-align: top;\n",
       "    }\n",
       "\n",
       "    .dataframe thead th {\n",
       "        text-align: right;\n",
       "    }\n",
       "</style>\n",
       "<table border=\"1\" class=\"dataframe\">\n",
       "  <thead>\n",
       "    <tr style=\"text-align: right;\">\n",
       "      <th></th>\n",
       "      <th>training score</th>\n",
       "      <th>validation score</th>\n",
       "      <th>n_neighbors</th>\n",
       "      <th>kernel</th>\n",
       "      <th>C</th>\n",
       "      <th>max_depth</th>\n",
       "      <th>n_estimators</th>\n",
       "      <th>max_features</th>\n",
       "    </tr>\n",
       "    <tr>\n",
       "      <th>name</th>\n",
       "      <th></th>\n",
       "      <th></th>\n",
       "      <th></th>\n",
       "      <th></th>\n",
       "      <th></th>\n",
       "      <th></th>\n",
       "      <th></th>\n",
       "      <th></th>\n",
       "    </tr>\n",
       "  </thead>\n",
       "  <tbody>\n",
       "    <tr>\n",
       "      <th>Logistic Regression</th>\n",
       "      <td>0.648148</td>\n",
       "      <td>0.642857</td>\n",
       "      <td>NaN</td>\n",
       "      <td>NaN</td>\n",
       "      <td>NaN</td>\n",
       "      <td>NaN</td>\n",
       "      <td>NaN</td>\n",
       "      <td>NaN</td>\n",
       "    </tr>\n",
       "    <tr>\n",
       "      <th>KNN</th>\n",
       "      <td>0.703704</td>\n",
       "      <td>0.642857</td>\n",
       "      <td>3</td>\n",
       "      <td>NaN</td>\n",
       "      <td>NaN</td>\n",
       "      <td>NaN</td>\n",
       "      <td>NaN</td>\n",
       "      <td>NaN</td>\n",
       "    </tr>\n",
       "    <tr>\n",
       "      <th>SVM</th>\n",
       "      <td>0.62963</td>\n",
       "      <td>0.714286</td>\n",
       "      <td>NaN</td>\n",
       "      <td>linear</td>\n",
       "      <td>40.0</td>\n",
       "      <td>NaN</td>\n",
       "      <td>NaN</td>\n",
       "      <td>NaN</td>\n",
       "    </tr>\n",
       "    <tr>\n",
       "      <th>RandomForest</th>\n",
       "      <td>0.814815</td>\n",
       "      <td>0.642857</td>\n",
       "      <td>NaN</td>\n",
       "      <td>NaN</td>\n",
       "      <td>NaN</td>\n",
       "      <td>5</td>\n",
       "      <td>5</td>\n",
       "      <td>1</td>\n",
       "    </tr>\n",
       "    <tr>\n",
       "      <th>AdaBoost</th>\n",
       "      <td>0.648148</td>\n",
       "      <td>0.571429</td>\n",
       "      <td>NaN</td>\n",
       "      <td>NaN</td>\n",
       "      <td>NaN</td>\n",
       "      <td>NaN</td>\n",
       "      <td>20</td>\n",
       "      <td>NaN</td>\n",
       "    </tr>\n",
       "  </tbody>\n",
       "</table>\n",
       "</div>"
      ],
      "text/plain": [
       "                    training score validation score n_neighbors  kernel     C  \\\n",
       "name                                                                            \n",
       "Logistic Regression       0.648148         0.642857         NaN     NaN   NaN   \n",
       "KNN                       0.703704         0.642857           3     NaN   NaN   \n",
       "SVM                        0.62963         0.714286         NaN  linear  40.0   \n",
       "RandomForest              0.814815         0.642857         NaN     NaN   NaN   \n",
       "AdaBoost                  0.648148         0.571429         NaN     NaN   NaN   \n",
       "\n",
       "                    max_depth n_estimators max_features  \n",
       "name                                                     \n",
       "Logistic Regression       NaN          NaN          NaN  \n",
       "KNN                       NaN          NaN          NaN  \n",
       "SVM                       NaN          NaN          NaN  \n",
       "RandomForest                5            5            1  \n",
       "AdaBoost                  NaN           20          NaN  "
      ]
     },
     "metadata": {},
     "execution_count": 18
    }
   ],
   "metadata": {}
  }
 ],
 "metadata": {
  "orig_nbformat": 4,
  "language_info": {
   "name": "python",
   "version": "3.9.1",
   "mimetype": "text/x-python",
   "codemirror_mode": {
    "name": "ipython",
    "version": 3
   },
   "pygments_lexer": "ipython3",
   "nbconvert_exporter": "python",
   "file_extension": ".py"
  },
  "kernelspec": {
   "name": "python3",
   "display_name": "Python 3.9.1 64-bit ('base': conda)"
  },
  "interpreter": {
   "hash": "3b01294e42a865b12568b227495ae06dd40b5e34da4d76ac80664469acd7958b"
  }
 },
 "nbformat": 4,
 "nbformat_minor": 2
}